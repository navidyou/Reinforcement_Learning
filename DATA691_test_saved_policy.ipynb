{
  "nbformat": 4,
  "nbformat_minor": 0,
  "metadata": {
    "colab": {
      "provenance": []
    },
    "kernelspec": {
      "name": "python3",
      "display_name": "Python 3"
    },
    "language_info": {
      "name": "python"
    }
  },
  "cells": [
    {
      "cell_type": "code",
      "execution_count": null,
      "metadata": {
        "id": "ht2cmHJfg0uM"
      },
      "outputs": [],
      "source": [
        "from google.colab import files\n",
        "uploaded = files.upload()"
      ]
    },
    {
      "cell_type": "code",
      "source": [
        "!unzip gym-foo.zip\n",
        "!pip install -e /content/gym-foo"
      ],
      "metadata": {
        "id": "bYJQg1p7g9tV"
      },
      "execution_count": null,
      "outputs": []
    },
    {
      "cell_type": "code",
      "source": [
        "!pip install tf-agents"
      ],
      "metadata": {
        "id": "a35O96nzhAiU"
      },
      "execution_count": null,
      "outputs": []
    },
    {
      "cell_type": "code",
      "source": [
        "from google.colab import drive\n",
        "drive.mount(\"/content/gdrive\", force_remount=True)"
      ],
      "metadata": {
        "id": "hP4EuLmOhC7g"
      },
      "execution_count": null,
      "outputs": []
    },
    {
      "cell_type": "code",
      "source": [
        "import os, sys\n",
        "\n",
        "import gym_foo\n",
        "import tensorflow as tf\n",
        "from tf_agents.environments import suite_gym\n",
        "\n",
        "import imageio\n",
        "from absl import logging\n",
        "from tf_agents.environments import tf_py_environment\n",
        "from tf_agents.environments.py_environment import PyEnvironment\n",
        "from tf_agents.environments.tf_environment import TFEnvironment\n",
        "from tf_agents.policies import tf_policy\n",
        "from tf_agents.trajectories.policy_step import PolicyStep\n"
      ],
      "metadata": {
        "id": "_c1qbVW3hKip"
      },
      "execution_count": null,
      "outputs": []
    },
    {
      "cell_type": "code",
      "source": [
        "\n",
        "env_name = 'foo-v0'\n",
        "\n",
        "def env_load_fn():\n",
        "  py_env = suite_gym.load(env_name)\n",
        "  py_env.reset()\n",
        "  return py_env\n"
      ],
      "metadata": {
        "id": "6e_as4g0hHE3"
      },
      "execution_count": null,
      "outputs": []
    },
    {
      "cell_type": "code",
      "source": [
        "\n",
        "def create_video(py_environment: PyEnvironment, tf_environment: TFEnvironment, policy, num_episodes=1, video_filename='imageio.mp4'):\n",
        "  logging.info(\"Generating video %s\" % video_filename)\n",
        "  with imageio.get_writer(video_filename, fps=1) as video:\n",
        "    for episode in range(num_episodes):\n",
        "      logging.info(\"Generating episode %d of %d\" % (episode, num_episodes))\n",
        "\n",
        "      time_step = tf_environment.reset()\n",
        "      state = policy.get_initial_state(tf_environment.batch_size)\n",
        "\n",
        "      video.append_data(py_environment.render())\n",
        "\n",
        "      while not time_step.is_last():\n",
        "        policy_step: PolicyStep = policy.action(time_step, state)\n",
        "        state = policy_step.state\n",
        "        act = policy_step.action\n",
        "\n",
        "        time_step = tf_environment.step(act)\n",
        "\n",
        "        img_bgr = py_environment.render()\n",
        "\n",
        "        video.append_data(img_bgr)\n",
        "\n",
        "  logging.info(\"Finished video %s\" % video_filename)"
      ],
      "metadata": {
        "id": "0hYWmd5bhgay"
      },
      "execution_count": null,
      "outputs": []
    },
    {
      "cell_type": "code",
      "source": [
        "policy_dir = '/content/gdrive/My Drive/DATA691_RL_logs6/policy_saved_model/policy_000328000'\n",
        "\n",
        "saved_policy = tf.compat.v2.saved_model.load(policy_dir)"
      ],
      "metadata": {
        "id": "3W6yDJNMh1dB"
      },
      "execution_count": null,
      "outputs": []
    },
    {
      "cell_type": "code",
      "source": [
        "videos_dir = '/content/gdrive/My Drive/DATA691_RL_logs6'\n",
        "\n",
        "video_file_name = os.path.join(videos_dir, \"video_policy%d.mp4\" % 180000_3)"
      ],
      "metadata": {
        "id": "hc86JrSPh3r0"
      },
      "execution_count": null,
      "outputs": []
    },
    {
      "cell_type": "code",
      "source": [
        "\n",
        "eval_py_env = env_load_fn()\n",
        "eval_tf_env = tf_py_environment.TFPyEnvironment(eval_py_env)\n",
        "create_video(eval_py_env, eval_tf_env, saved_policy, num_episodes=1, video_filename=video_file_name)"
      ],
      "metadata": {
        "id": "1RwyJLDth8cO"
      },
      "execution_count": null,
      "outputs": []
    }
  ]
}